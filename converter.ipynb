{
 "cells": [
  {
   "cell_type": "code",
   "execution_count": 10,
   "metadata": {},
   "outputs": [],
   "source": [
    "import pandas as pd\n",
    "import numpy as np"
   ]
  },
  {
   "cell_type": "code",
   "execution_count": 11,
   "metadata": {},
   "outputs": [],
   "source": [
    "# (2*(x-3)**2 + 4)\n",
    "# (cos(2*x))\n",
    "\n",
    "\n",
    "def f(x):\n",
    "    return f\"{(3*x + 4):.2f}\"\n",
    "\n",
    "def fdash(x):\n",
    "    return 4*(x-3)"
   ]
  },
  {
   "cell_type": "code",
   "execution_count": 12,
   "metadata": {},
   "outputs": [],
   "source": [
    "def convert(arr):\n",
    "    arr = arr.T\n",
    "    for j in range(len(arr)):\n",
    "        x = arr[j]\n",
    "        temp = []\n",
    "        for i in x:\n",
    "            temp.append(fdash(i))\n",
    "        xdash = np.array(temp)\n",
    "        temp = []\n",
    "        for i in xdash:\n",
    "            temp.append(f(i))\n",
    "        arr[j] = np.array(temp)\n",
    "    print(arr)\n",
    "    arr = arr.T\n",
    "    return arr"
   ]
  },
  {
   "cell_type": "code",
   "execution_count": 13,
   "metadata": {},
   "outputs": [
    {
     "name": "stdout",
     "output_type": "stream",
     "text": [
      "(267, 44)\n",
      "[[772. 868. 964. ... 772. 784. 760.]\n",
      " [784. 856. 736. ... 736. 748. 616.]\n",
      " [844. 820. 760. ... 844. 832. 796.]\n",
      " ...\n",
      " [856. 664. 736. ... 928. 640. 784.]\n",
      " [676. 652. 484. ... 772. 664. 676.]\n",
      " [784. 592. 472. ... 784. 496. 676.]]\n",
      "(267, 44)\n"
     ]
    }
   ],
   "source": [
    "df = pd.read_csv('data.csv')\n",
    "df.head()\n",
    "label = df['Class']\n",
    "df = df.drop(columns=['Class'])\n",
    "A = df.to_numpy()\n",
    "print(A.shape)\n",
    "newArr = convert(A.copy())\n",
    "print(newArr.shape)\n",
    "\n",
    "df = pd.DataFrame(newArr)\n",
    "df['Class'] = np.array(list(label))\n",
    "df.to_csv(\"newData.csv\",index=False)"
   ]
  },
  {
   "cell_type": "code",
   "execution_count": 14,
   "metadata": {},
   "outputs": [
    {
     "name": "stdout",
     "output_type": "stream",
     "text": [
      "[1, 1, 1, 1, 1, 1, 1, 1, 1, 1, 1, 1, 1, 1, 1, 1, 1, 1, 1, 1, 1, 1, 1, 1, 1, 1, 1, 1, 1, 1, 1, 1, 1, 1, 1, 1, 1, 1, 1, 1, 1, 1, 1, 1, 1, 1, 1, 1, 1, 1, 1, 1, 1, 1, 1, 1, 1, 1, 1, 1, 1, 1, 1, 1, 1, 1, 1, 1, 1, 1, 1, 1, 1, 1, 1, 1, 1, 1, 1, 1, 1, 1, 1, 1, 1, 1, 1, 1, 1, 1, 1, 1, 1, 1, 1, 1, 1, 1, 1, 1, 1, 1, 1, 1, 1, 1, 1, 1, 1, 1, 1, 1, 1, 1, 1, 1, 1, 1, 1, 1, 1, 1, 1, 1, 1, 1, 1, 1, 1, 1, 1, 1, 1, 1, 1, 1, 1, 1, 1, 1, 1, 1, 1, 1, 1, 1, 1, 1, 1, 1, 1, 1, 1, 1, 1, 1, 1, 1, 1, 1, 1, 1, 1, 1, 1, 1, 1, 1, 1, 1, 1, 1, 0, 0, 0, 0, 0, 0, 0, 0, 0, 0, 0, 0, 0, 0, 0, 1, 1, 1, 1, 1, 1, 1, 1, 1, 1, 1, 1, 1, 1, 1, 1, 1, 1, 1, 1, 1, 1, 1, 1, 1, 1, 1, 1, 1, 1, 1, 1, 1, 1, 1, 1, 1, 1, 1, 1, 0, 0, 0, 0, 0, 0, 0, 0, 0, 0, 0, 0, 0, 0, 0, 0, 0, 0, 0, 0, 0, 0, 0, 0, 0, 0, 0, 0, 0, 0, 0, 0, 0, 0, 0, 0, 0, 0, 0, 0]\n"
     ]
    }
   ],
   "source": [
    "#y=a(x-h)^2 + k; y = 2(x-3)^2 + 4\n",
    "#dy/dx = 2a(x-h) = x'\n",
    "#y' = a(x'-h)^2 + k\n",
    "print(list(label))"
   ]
  }
 ],
 "metadata": {
  "kernelspec": {
   "display_name": "Python 3",
   "language": "python",
   "name": "python3"
  },
  "language_info": {
   "codemirror_mode": {
    "name": "ipython",
    "version": 3
   },
   "file_extension": ".py",
   "mimetype": "text/x-python",
   "name": "python",
   "nbconvert_exporter": "python",
   "pygments_lexer": "ipython3",
   "version": "3.10.12"
  },
  "orig_nbformat": 4
 },
 "nbformat": 4,
 "nbformat_minor": 2
}
