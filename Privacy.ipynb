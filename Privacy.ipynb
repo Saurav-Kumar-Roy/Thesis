{
 "cells": [
  {
   "cell_type": "markdown",
   "metadata": {},
   "source": [
    "VD"
   ]
  },
  {
   "cell_type": "code",
   "execution_count": 46,
   "metadata": {},
   "outputs": [],
   "source": [
    "import numpy as np\n",
    "from scipy.stats import rankdata\n",
    "import pandas as pd\n",
    "from sklearn.decomposition import FastICA"
   ]
  },
  {
   "cell_type": "code",
   "execution_count": 47,
   "metadata": {},
   "outputs": [],
   "source": [
    "def entropy(data):\n",
    "    \"\"\"\n",
    "    Calculates the entropy of a dataset\n",
    "    \"\"\"\n",
    "    n = len(data)\n",
    "    value,counts = np.unique(data,return_counts=True)\n",
    "    probs = counts / n\n",
    "    entropy = -np.sum(probs * np.log2(probs))\n",
    "    return entropy\n",
    "\n",
    "def increase_in_entropy(original_data, perturbed_data):\n",
    "    \"\"\"\n",
    "    Calculates the increase in entropy between the original dataset and the perturbed dataset\n",
    "    \"\"\"\n",
    "    orig_entropy = entropy(original_data)\n",
    "    perturbed_entropy = entropy(perturbed_data)\n",
    "    increase_in_entropy = perturbed_entropy - orig_entropy\n",
    "    return increase_in_entropy\n"
   ]
  },
  {
   "cell_type": "code",
   "execution_count": 48,
   "metadata": {},
   "outputs": [],
   "source": [
    "def ICA(X_):\n",
    "    ica = FastICA(n_components=X_.shape[1])\n",
    "    return ica.fit_transform(X_)\n",
    "\n",
    "def Ica(X,Y):\n",
    "    return np.std(np.abs(X-ICA(Y.copy())))"
   ]
  },
  {
   "cell_type": "code",
   "execution_count": 49,
   "metadata": {},
   "outputs": [],
   "source": [
    "def vd(dataset1,dataset2):\n",
    "\n",
    "    # Calculate the value difference\n",
    "    d3 = dataset1-dataset2\n",
    "\n",
    "    norm = np.linalg.norm(d3, ord='fro')\n",
    "    d4 = np.linalg.norm(dataset1, ord='fro')\n",
    "\n",
    "    return norm/d4\n",
    "\n",
    "    # Print the value difference\n",
    "\n"
   ]
  },
  {
   "attachments": {},
   "cell_type": "markdown",
   "metadata": {},
   "source": [
    "RP"
   ]
  },
  {
   "cell_type": "code",
   "execution_count": 50,
   "metadata": {},
   "outputs": [],
   "source": [
    "def rp(x1,x2):\n",
    "\n",
    "    sum=0\n",
    "    for i,j in zip(x1,x2):\n",
    "        rank_vec1 = rankdata(i)\n",
    "        rank_vec2 = rankdata(j)\n",
    "        sum+=np.sum(abs(rank_vec1-rank_vec2))\n",
    "\n",
    "    div = x1.shape[0]*x1.shape[1]\n",
    "    Rp = sum/div\n",
    "    return Rp"
   ]
  },
  {
   "attachments": {},
   "cell_type": "markdown",
   "metadata": {},
   "source": [
    "Rk"
   ]
  },
  {
   "cell_type": "code",
   "execution_count": 51,
   "metadata": {},
   "outputs": [],
   "source": [
    "def rk(x1,x2):\n",
    "    sum=0\n",
    "    for i,j in zip(x1,x2):\n",
    "        rank_vec1 = rankdata(i)\n",
    "        rank_vec2 = rankdata(j)\n",
    "        for r1,r2 in zip(rank_vec1,rank_vec2):\n",
    "            if r1==r2:\n",
    "                sum+=1\n",
    "\n",
    "    div = x1.shape[0]*x1.shape[1]\n",
    "    Rk = sum/div\n",
    "    return Rk"
   ]
  },
  {
   "attachments": {},
   "cell_type": "markdown",
   "metadata": {},
   "source": [
    "CP"
   ]
  },
  {
   "cell_type": "code",
   "execution_count": 52,
   "metadata": {},
   "outputs": [],
   "source": [
    "\n",
    "def cp(x1,x2):\n",
    "    c1 = np.mean(x1, axis=0)\n",
    "    c2 = np.mean(x2, axis=0)\n",
    "\n",
    "    sum=0\n",
    "\n",
    "    rank_vec1 = rankdata(c1)\n",
    "    rank_vec2 = rankdata(c2)\n",
    "    for r1,r2 in zip(rank_vec1,rank_vec2):\n",
    "        sum+=abs(r1-r2)\n",
    "\n",
    "    cp = sum/x1.shape[1]\n",
    "\n",
    "    return cp\n"
   ]
  },
  {
   "attachments": {},
   "cell_type": "markdown",
   "metadata": {},
   "source": [
    "ck"
   ]
  },
  {
   "cell_type": "code",
   "execution_count": 53,
   "metadata": {},
   "outputs": [],
   "source": [
    "\n",
    "\n",
    "def ck(x1,x2):\n",
    "\n",
    "    # Calculate the average of each column\n",
    "    c1 = np.mean(x1, axis=0)\n",
    "    c2 = np.mean(x2, axis=0)\n",
    "\n",
    "    sum=0\n",
    "\n",
    "    rank_vec1 = rankdata(c1)\n",
    "    rank_vec2 = rankdata(c2)\n",
    "    for r1,r2 in zip(rank_vec1,rank_vec2):\n",
    "        if r1==r2:\n",
    "            sum+=1\n",
    "\n",
    "    ck = sum/x1.shape[1]\n",
    "\n",
    "    return ck\n"
   ]
  },
  {
   "cell_type": "code",
   "execution_count": 54,
   "metadata": {},
   "outputs": [
    {
     "name": "stdout",
     "output_type": "stream",
     "text": [
      "VD 0.9799313232309557\n",
      "RP 15.842781750085122\n",
      "RK 0.009448416751787538\n",
      "Cp 14.090909090909092\n",
      "Ck 0.06818181818181818\n",
      "Entropy 184.5572199603498\n"
     ]
    },
    {
     "name": "stderr",
     "output_type": "stream",
     "text": [
      "/home/saurav/.local/lib/python3.10/site-packages/sklearn/decomposition/_fastica.py:542: FutureWarning: Starting in v1.3, whiten='unit-variance' will be used by default.\n",
      "  warnings.warn(\n"
     ]
    },
    {
     "name": "stdout",
     "output_type": "stream",
     "text": [
      "ICA 11.04834319104777\n"
     ]
    }
   ],
   "source": [
    "df1 = pd.read_csv('data.csv')\n",
    "#df = pd.read_csv('5. SVD+3dRT.csv')\n",
    "#df = pd.read_csv('6. WOE+IV+3dshare.csv')\n",
    "df = pd.read_csv('6. SVD+WOE+IV+3dshare.csv')\n",
    "#df = pd.read_csv('newData.csv')\n",
    "\n",
    "df = df.drop(columns=['Class'])\n",
    "df1 = df1.drop(columns=['Class'])\n",
    "\n",
    "A1 = df1.to_numpy()\n",
    "A = df.to_numpy()\n",
    "\n",
    "print(\"VD\",vd(A1,A))\n",
    "print(\"RP\",rp(A1,A))\n",
    "print(\"RK\",rk(A1,A))\n",
    "print(\"Cp\",cp(A1,A))\n",
    "print(\"Ck\",ck(A1,A))\n",
    "print('Entropy',increase_in_entropy(A1,A))\n",
    "print('ICA',Ica(A1.copy(),A.copy()))\n"
   ]
  }
 ],
 "metadata": {
  "kernelspec": {
   "display_name": "Python 3",
   "language": "python",
   "name": "python3"
  },
  "language_info": {
   "codemirror_mode": {
    "name": "ipython",
    "version": 3
   },
   "file_extension": ".py",
   "mimetype": "text/x-python",
   "name": "python",
   "nbconvert_exporter": "python",
   "pygments_lexer": "ipython3",
   "version": "3.10.12"
  },
  "orig_nbformat": 4
 },
 "nbformat": 4,
 "nbformat_minor": 2
}
