{
 "cells": [
  {
   "cell_type": "markdown",
   "metadata": {
    "id": "QlTD5HPCSElW"
   },
   "source": [
    "#intializations"
   ]
  },
  {
   "cell_type": "code",
   "execution_count": 1,
   "metadata": {
    "executionInfo": {
     "elapsed": 5708,
     "status": "ok",
     "timestamp": 1677340054828,
     "user": {
      "displayName": "saurav Roy",
      "userId": "11382058629229026496"
     },
     "user_tz": -360
    },
    "id": "25HfzWsTGH5h"
   },
   "outputs": [
    {
     "ename": "ModuleNotFoundError",
     "evalue": "No module named 'pandas'",
     "output_type": "error",
     "traceback": [
      "\u001b[0;31m---------------------------------------------------------------------------\u001b[0m",
      "\u001b[0;31mModuleNotFoundError\u001b[0m                       Traceback (most recent call last)",
      "Cell \u001b[0;32mIn[1], line 1\u001b[0m\n\u001b[0;32m----> 1\u001b[0m \u001b[38;5;28;01mimport\u001b[39;00m \u001b[38;5;21;01mpandas\u001b[39;00m \u001b[38;5;28;01mas\u001b[39;00m \u001b[38;5;21;01mpd\u001b[39;00m\n\u001b[1;32m      2\u001b[0m \u001b[38;5;28;01mimport\u001b[39;00m \u001b[38;5;21;01mnumpy\u001b[39;00m \u001b[38;5;28;01mas\u001b[39;00m \u001b[38;5;21;01mnp\u001b[39;00m\n\u001b[1;32m      3\u001b[0m \u001b[38;5;28;01mimport\u001b[39;00m \u001b[38;5;21;01mmath\u001b[39;00m\n",
      "\u001b[0;31mModuleNotFoundError\u001b[0m: No module named 'pandas'"
     ]
    }
   ],
   "source": [
    "import pandas as pd\n",
    "import numpy as np\n",
    "import math\n",
    "import random\n",
    "\n",
    "from sklearn.metrics import roc_curve, auc, f1_score, roc_auc_score\n",
    "#from sklearn.linear_model import LogisticRegression\n",
    "from sklearn.model_selection import train_test_split\n",
    "from sklearn.tree import DecisionTreeClassifier\n",
    "from sklearn.ensemble import RandomForestClassifier\n",
    "from sklearn import svm\n",
    "from sklearn.metrics import accuracy_score, confusion_matrix\n",
    "from sklearn import preprocessing\n",
    "from sklearn import utils\n",
    "from sklearn.preprocessing import LabelEncoder\n",
    "from sklearn.svm import SVC\n",
    "from sklearn.kernel_approximation import Nystroem\n",
    "from sklearn.pipeline import make_pipeline\n",
    "\n",
    "import matplotlib.pyplot as plt"
   ]
  },
  {
   "cell_type": "markdown",
   "metadata": {
    "id": "X9U5ioBjQ9zz"
   },
   "source": [
    "DT"
   ]
  },
  {
   "cell_type": "code",
   "execution_count": 3,
   "metadata": {
    "executionInfo": {
     "elapsed": 28,
     "status": "ok",
     "timestamp": 1677340054831,
     "user": {
      "displayName": "saurav Roy",
      "userId": "11382058629229026496"
     },
     "user_tz": -360
    },
    "id": "c_arLDGSNqn3"
   },
   "outputs": [],
   "source": [
    "def dt(X_train,y_train,X_test,y_test):\n",
    "  clf = DecisionTreeClassifier()\n",
    "  clf.fit(X_train, y_train)\n",
    "  y_pred = clf.predict(X_test)\n",
    "  \n",
    "  y_pred_prob = clf.predict_proba(X_test)[:, 1]\n",
    "  # Calculate the AUC score\n",
    "  auc_score = roc_auc_score(y_test, y_pred_prob)\n",
    "  f1 = f1_score(y_test, y_pred)\n",
    "\n",
    "  accuracy = accuracy_score(y_test, y_pred)\n",
    "  return f1, auc_score"
   ]
  },
  {
   "cell_type": "markdown",
   "metadata": {
    "id": "teJG2HnPRK3S"
   },
   "source": [
    "Random Forest"
   ]
  },
  {
   "cell_type": "code",
   "execution_count": 38,
   "metadata": {
    "executionInfo": {
     "elapsed": 28,
     "status": "ok",
     "timestamp": 1677340054832,
     "user": {
      "displayName": "saurav Roy",
      "userId": "11382058629229026496"
     },
     "user_tz": -360
    },
    "id": "Y_mOWyLNNuoy"
   },
   "outputs": [],
   "source": [
    "def Rndm(xtr,ytr,xtst,ytst):\n",
    "  clf = RandomForestClassifier(n_estimators=100, random_state=42) #builds 100 tree.\n",
    "  # Train the classifier on the training data\n",
    "  clf.fit(xtr, ytr)\n",
    "  # Make predictions on the test data\n",
    "  y_pred = clf.predict(xtst)\n",
    "  # Evaluate the classifier's performance\n",
    "  accuracy = accuracy_score(ytst, y_pred)\n",
    "  return accuracy\n",
    "  #conf_matrix = confusion_matrix(y_test, y_pred)\n",
    "  #print('Confusion Matrix: \\n', conf_matrix)"
   ]
  },
  {
   "cell_type": "markdown",
   "metadata": {
    "id": "Y6SGzPr1RRka"
   },
   "source": [
    "SVM"
   ]
  },
  {
   "cell_type": "code",
   "execution_count": 39,
   "metadata": {
    "executionInfo": {
     "elapsed": 30,
     "status": "ok",
     "timestamp": 1677340054834,
     "user": {
      "displayName": "saurav Roy",
      "userId": "11382058629229026496"
     },
     "user_tz": -360
    },
    "id": "_6ZZ-3jPNyE3"
   },
   "outputs": [],
   "source": [
    "def SVM(xtr,ytr,xtst,ytst):\n",
    "  # Create an SVM classifier with a linear kernel\n",
    "  clf = make_pipeline(Nystroem(), SVC())\n",
    "  # Train the classifier on the training data\n",
    "  clf.fit(xtr, ytr)\n",
    "  # Make predictions on the test data\n",
    "  y_pred = clf.predict(xtst)\n",
    "  # Evaluate the classifier's performance\n",
    "  accuracy = accuracy_score(ytst, y_pred)\n",
    "  return accuracy"
   ]
  },
  {
   "cell_type": "code",
   "execution_count": 40,
   "metadata": {
    "executionInfo": {
     "elapsed": 31,
     "status": "ok",
     "timestamp": 1677340054835,
     "user": {
      "displayName": "saurav Roy",
      "userId": "11382058629229026496"
     },
     "user_tz": -360
    },
    "id": "5ajX7ORjN8tn"
   },
   "outputs": [],
   "source": [
    "def outpt(dframe):\n",
    "  label = dframe['Class']\n",
    "  dframe = dframe.drop(columns=['Class'])\n",
    "  A = dframe.to_numpy()\n",
    "  xtrain,xtest,ytrain,ytest = train_test_split(A,label, test_size=0.2, random_state=42)\n",
    "  #print(xtrain)\n",
    "  print(\"dataset Accuracy:\")\n",
    "  print(\"decision tree: \",dt(xtrain,ytrain,xtest,ytest))\n",
    "  print(\"Random Forest: \",Rndm(xtrain,ytrain,xtest,ytest))\n",
    "  print(\"SVM: \",SVM(xtrain,ytrain,xtest,ytest))"
   ]
  },
  {
   "cell_type": "markdown",
   "metadata": {
    "id": "1zMM0z7vR-2z"
   },
   "source": [
    "#Datasets"
   ]
  },
  {
   "cell_type": "code",
   "execution_count": 41,
   "metadata": {
    "colab": {
     "base_uri": "https://localhost:8080/",
     "height": 206
    },
    "executionInfo": {
     "elapsed": 31,
     "status": "ok",
     "timestamp": 1677340054837,
     "user": {
      "displayName": "saurav Roy",
      "userId": "11382058629229026496"
     },
     "user_tz": -360
    },
    "id": "rCbmg56i8_gn",
    "outputId": "3a712639-724b-4b01-a007-766f99dc618d"
   },
   "outputs": [
    {
     "data": {
      "text/html": [
       "<div>\n",
       "<style scoped>\n",
       "    .dataframe tbody tr th:only-of-type {\n",
       "        vertical-align: middle;\n",
       "    }\n",
       "\n",
       "    .dataframe tbody tr th {\n",
       "        vertical-align: top;\n",
       "    }\n",
       "\n",
       "    .dataframe thead th {\n",
       "        text-align: right;\n",
       "    }\n",
       "</style>\n",
       "<table border=\"1\" class=\"dataframe\">\n",
       "  <thead>\n",
       "    <tr style=\"text-align: right;\">\n",
       "      <th></th>\n",
       "      <th>0</th>\n",
       "      <th>1</th>\n",
       "      <th>2</th>\n",
       "      <th>3</th>\n",
       "      <th>4</th>\n",
       "      <th>5</th>\n",
       "      <th>6</th>\n",
       "      <th>7</th>\n",
       "      <th>8</th>\n",
       "      <th>9</th>\n",
       "      <th>...</th>\n",
       "      <th>48</th>\n",
       "      <th>49</th>\n",
       "      <th>50</th>\n",
       "      <th>51</th>\n",
       "      <th>52</th>\n",
       "      <th>53</th>\n",
       "      <th>54</th>\n",
       "      <th>55</th>\n",
       "      <th>56</th>\n",
       "      <th>Class</th>\n",
       "    </tr>\n",
       "  </thead>\n",
       "  <tbody>\n",
       "    <tr>\n",
       "      <th>0</th>\n",
       "      <td>1.378993</td>\n",
       "      <td>1.189770</td>\n",
       "      <td>1.032961</td>\n",
       "      <td>0.028556</td>\n",
       "      <td>0.060339</td>\n",
       "      <td>0.04975</td>\n",
       "      <td>1.343037</td>\n",
       "      <td>1.484464</td>\n",
       "      <td>1.264762</td>\n",
       "      <td>0.294776</td>\n",
       "      <td>...</td>\n",
       "      <td>1.084146</td>\n",
       "      <td>2.036665</td>\n",
       "      <td>2.198380</td>\n",
       "      <td>0.095365</td>\n",
       "      <td>0.180180</td>\n",
       "      <td>0.192126</td>\n",
       "      <td>0.025961</td>\n",
       "      <td>0.041747</td>\n",
       "      <td>0.0612</td>\n",
       "      <td>1</td>\n",
       "    </tr>\n",
       "    <tr>\n",
       "      <th>1</th>\n",
       "      <td>1.378993</td>\n",
       "      <td>1.189770</td>\n",
       "      <td>1.032961</td>\n",
       "      <td>0.028556</td>\n",
       "      <td>0.060339</td>\n",
       "      <td>0.04975</td>\n",
       "      <td>1.639519</td>\n",
       "      <td>1.740263</td>\n",
       "      <td>1.486847</td>\n",
       "      <td>0.553412</td>\n",
       "      <td>...</td>\n",
       "      <td>0.584291</td>\n",
       "      <td>1.232880</td>\n",
       "      <td>1.020052</td>\n",
       "      <td>0.712849</td>\n",
       "      <td>1.373893</td>\n",
       "      <td>1.403156</td>\n",
       "      <td>0.025961</td>\n",
       "      <td>0.041747</td>\n",
       "      <td>0.0612</td>\n",
       "      <td>1</td>\n",
       "    </tr>\n",
       "    <tr>\n",
       "      <th>2</th>\n",
       "      <td>1.378993</td>\n",
       "      <td>1.189770</td>\n",
       "      <td>1.032961</td>\n",
       "      <td>0.028556</td>\n",
       "      <td>0.060339</td>\n",
       "      <td>0.04975</td>\n",
       "      <td>1.343037</td>\n",
       "      <td>1.484464</td>\n",
       "      <td>1.264762</td>\n",
       "      <td>0.294776</td>\n",
       "      <td>...</td>\n",
       "      <td>2.320346</td>\n",
       "      <td>2.996818</td>\n",
       "      <td>2.894730</td>\n",
       "      <td>0.183407</td>\n",
       "      <td>0.385762</td>\n",
       "      <td>0.321695</td>\n",
       "      <td>0.503280</td>\n",
       "      <td>0.809292</td>\n",
       "      <td>1.1864</td>\n",
       "      <td>1</td>\n",
       "    </tr>\n",
       "    <tr>\n",
       "      <th>3</th>\n",
       "      <td>1.083877</td>\n",
       "      <td>0.935149</td>\n",
       "      <td>0.811899</td>\n",
       "      <td>0.028556</td>\n",
       "      <td>0.060339</td>\n",
       "      <td>0.04975</td>\n",
       "      <td>1.343037</td>\n",
       "      <td>1.484464</td>\n",
       "      <td>1.264762</td>\n",
       "      <td>0.294776</td>\n",
       "      <td>...</td>\n",
       "      <td>0.873419</td>\n",
       "      <td>1.591398</td>\n",
       "      <td>1.831254</td>\n",
       "      <td>1.337192</td>\n",
       "      <td>2.693133</td>\n",
       "      <td>2.490881</td>\n",
       "      <td>0.025961</td>\n",
       "      <td>0.041747</td>\n",
       "      <td>0.0612</td>\n",
       "      <td>1</td>\n",
       "    </tr>\n",
       "    <tr>\n",
       "      <th>4</th>\n",
       "      <td>1.083877</td>\n",
       "      <td>0.935149</td>\n",
       "      <td>0.811899</td>\n",
       "      <td>0.028556</td>\n",
       "      <td>0.060339</td>\n",
       "      <td>0.04975</td>\n",
       "      <td>1.343037</td>\n",
       "      <td>1.484464</td>\n",
       "      <td>1.264762</td>\n",
       "      <td>0.294776</td>\n",
       "      <td>...</td>\n",
       "      <td>0.873419</td>\n",
       "      <td>1.591398</td>\n",
       "      <td>1.831254</td>\n",
       "      <td>1.337192</td>\n",
       "      <td>2.693133</td>\n",
       "      <td>2.490881</td>\n",
       "      <td>0.025961</td>\n",
       "      <td>0.041747</td>\n",
       "      <td>0.0612</td>\n",
       "      <td>1</td>\n",
       "    </tr>\n",
       "  </tbody>\n",
       "</table>\n",
       "<p>5 rows × 58 columns</p>\n",
       "</div>"
      ],
      "text/plain": [
       "          0         1         2         3         4        5         6  \\\n",
       "0  1.378993  1.189770  1.032961  0.028556  0.060339  0.04975  1.343037   \n",
       "1  1.378993  1.189770  1.032961  0.028556  0.060339  0.04975  1.639519   \n",
       "2  1.378993  1.189770  1.032961  0.028556  0.060339  0.04975  1.343037   \n",
       "3  1.083877  0.935149  0.811899  0.028556  0.060339  0.04975  1.343037   \n",
       "4  1.083877  0.935149  0.811899  0.028556  0.060339  0.04975  1.343037   \n",
       "\n",
       "          7         8         9  ...        48        49        50        51  \\\n",
       "0  1.484464  1.264762  0.294776  ...  1.084146  2.036665  2.198380  0.095365   \n",
       "1  1.740263  1.486847  0.553412  ...  0.584291  1.232880  1.020052  0.712849   \n",
       "2  1.484464  1.264762  0.294776  ...  2.320346  2.996818  2.894730  0.183407   \n",
       "3  1.484464  1.264762  0.294776  ...  0.873419  1.591398  1.831254  1.337192   \n",
       "4  1.484464  1.264762  0.294776  ...  0.873419  1.591398  1.831254  1.337192   \n",
       "\n",
       "         52        53        54        55      56  Class  \n",
       "0  0.180180  0.192126  0.025961  0.041747  0.0612      1  \n",
       "1  1.373893  1.403156  0.025961  0.041747  0.0612      1  \n",
       "2  0.385762  0.321695  0.503280  0.809292  1.1864      1  \n",
       "3  2.693133  2.490881  0.025961  0.041747  0.0612      1  \n",
       "4  2.693133  2.490881  0.025961  0.041747  0.0612      1  \n",
       "\n",
       "[5 rows x 58 columns]"
      ]
     },
     "execution_count": 41,
     "metadata": {},
     "output_type": "execute_result"
    }
   ],
   "source": [
    "#df = pd.read_csv('spambase.csv')\n",
    "#df = pd.read_csv('4. for_clasification.csv')\n",
    "#df = pd.read_csv('5. SVD+3dRT.csv')\n",
    "#df = pd.read_csv('6. WOE+IV+3dshare.csv')\n",
    "df = pd.read_csv('6. SVD+WOE+IV+3dshare.csv')\n",
    "df.head()"
   ]
  },
  {
   "cell_type": "code",
   "execution_count": 42,
   "metadata": {
    "colab": {
     "base_uri": "https://localhost:8080/"
    },
    "executionInfo": {
     "elapsed": 69834,
     "status": "ok",
     "timestamp": 1677340124644,
     "user": {
      "displayName": "saurav Roy",
      "userId": "11382058629229026496"
     },
     "user_tz": -360
    },
    "id": "x4bSeqnyR8jV",
    "outputId": "47ccc7fc-7882-4979-86ed-aa7dd1836507"
   },
   "outputs": [
    {
     "name": "stdout",
     "output_type": "stream",
     "text": [
      "dataset Accuracy:\n",
      "decision tree:  0.8490770901194354\n",
      "Random Forest:  0.8588490770901195\n",
      "SVM:  0.8469055374592834\n"
     ]
    }
   ],
   "source": [
    "outpt(df)"
   ]
  }
 ],
 "metadata": {
  "colab": {
   "authorship_tag": "ABX9TyP3n8M+Pq0P5z89RgI3MCzj",
   "provenance": []
  },
  "kernelspec": {
   "display_name": "Python 3 (ipykernel)",
   "language": "python",
   "name": "python3"
  },
  "language_info": {
   "codemirror_mode": {
    "name": "ipython",
    "version": 3
   },
   "file_extension": ".py",
   "mimetype": "text/x-python",
   "name": "python",
   "nbconvert_exporter": "python",
   "pygments_lexer": "ipython3",
   "version": "3.10.6"
  },
  "vscode": {
   "interpreter": {
    "hash": "093b139589c52eea2f67ab026d77915a640d738e197d37b11b9be9738c028ef7"
   }
  }
 },
 "nbformat": 4,
 "nbformat_minor": 1
}
