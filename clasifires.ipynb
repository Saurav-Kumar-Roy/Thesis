{
 "cells": [
  {
   "cell_type": "markdown",
   "metadata": {
    "id": "QlTD5HPCSElW"
   },
   "source": [
    "#intializations"
   ]
  },
  {
   "cell_type": "code",
   "execution_count": 120,
   "metadata": {
    "executionInfo": {
     "elapsed": 5708,
     "status": "ok",
     "timestamp": 1677340054828,
     "user": {
      "displayName": "saurav Roy",
      "userId": "11382058629229026496"
     },
     "user_tz": -360
    },
    "id": "25HfzWsTGH5h"
   },
   "outputs": [],
   "source": [
    "import pandas as pd\n",
    "import numpy as np\n",
    "\n",
    "from sklearn.metrics import f1_score, roc_auc_score,accuracy_score\n",
    "\n",
    "from sklearn.model_selection import train_test_split\n",
    "from sklearn.tree import DecisionTreeClassifier\n",
    "from sklearn.ensemble import RandomForestClassifier\n",
    "from sklearn import svm\n",
    "\n"
   ]
  },
  {
   "cell_type": "markdown",
   "metadata": {
    "id": "X9U5ioBjQ9zz"
   },
   "source": [
    "DT"
   ]
  },
  {
   "cell_type": "code",
   "execution_count": 121,
   "metadata": {
    "executionInfo": {
     "elapsed": 28,
     "status": "ok",
     "timestamp": 1677340054831,
     "user": {
      "displayName": "saurav Roy",
      "userId": "11382058629229026496"
     },
     "user_tz": -360
    },
    "id": "c_arLDGSNqn3"
   },
   "outputs": [],
   "source": [
    "def dt(X_train,y_train,X_test,y_test):\n",
    "  clf = DecisionTreeClassifier()\n",
    "  clf.fit(X_train, y_train)\n",
    "  y_pred = clf.predict(X_test)\n",
    "  \n",
    "  y_pred_prob = clf.predict_proba(X_test)[:, 1]\n",
    "  # Calculate the AUC score\n",
    "  auc_score = roc_auc_score(y_test, y_pred_prob)\n",
    "  f1 = f1_score(y_test, y_pred)\n",
    "\n",
    "  accuracy = accuracy_score(y_test, y_pred)\n",
    "  return f1, auc_score, accuracy"
   ]
  },
  {
   "cell_type": "markdown",
   "metadata": {
    "id": "teJG2HnPRK3S"
   },
   "source": [
    "Random Forest"
   ]
  },
  {
   "cell_type": "code",
   "execution_count": 122,
   "metadata": {
    "executionInfo": {
     "elapsed": 28,
     "status": "ok",
     "timestamp": 1677340054832,
     "user": {
      "displayName": "saurav Roy",
      "userId": "11382058629229026496"
     },
     "user_tz": -360
    },
    "id": "Y_mOWyLNNuoy"
   },
   "outputs": [],
   "source": [
    "def Rndm(xtr,ytr,xtst,ytst):\n",
    "  clf = RandomForestClassifier(n_estimators=100, random_state=42) #builds 100 tree.\n",
    "  # Train the classifier on the training data\n",
    "  clf.fit(xtr, ytr)\n",
    "  # Make predictions on the test data\n",
    "  y_pred = clf.predict(xtst)\n",
    "  y_pred_prob = clf.predict_proba(xtst)[:,1]\n",
    "  # Evaluate the classifier's performance\n",
    "  accuracy = accuracy_score(ytst, y_pred)\n",
    "  auc_score = roc_auc_score(ytst, y_pred_prob)\n",
    "  f1 = f1_score(ytst, y_pred)\n",
    "  return f1, auc_score, accuracy\n",
    "  #conf_matrix = confusion_matrix(y_test, y_pred)\n",
    "  #print('Confusion Matrix: \\n', conf_matrix)"
   ]
  },
  {
   "cell_type": "markdown",
   "metadata": {
    "id": "Y6SGzPr1RRka"
   },
   "source": [
    "SVM"
   ]
  },
  {
   "cell_type": "code",
   "execution_count": 123,
   "metadata": {
    "executionInfo": {
     "elapsed": 30,
     "status": "ok",
     "timestamp": 1677340054834,
     "user": {
      "displayName": "saurav Roy",
      "userId": "11382058629229026496"
     },
     "user_tz": -360
    },
    "id": "_6ZZ-3jPNyE3"
   },
   "outputs": [],
   "source": [
    "def SVMs(xtr,ytr,xtst,ytst):\n",
    "\n",
    "  #svm_model = svm.SVC(kernel='rbf',C=1, gamma='scale',probability=True)\n",
    "  svm_model = svm.SVC(kernel='poly', C=1, gamma='scale', degree=2,probability=True)\n",
    "  #svm_model = svm.SVC(kernel='sigmoid', C=1, gamma='scale',probability=True)\n",
    "  # Train the model using the training data\n",
    "  svm_model.fit(xtr, ytr)\n",
    "\n",
    "  # Make predictions on the testing data\n",
    "  y_pred = svm_model.predict(xtst)\n",
    "\n",
    "  y_prob = svm_model.predict_proba(xtst)[:,1]\n",
    "\n",
    "  # Calculate accuracy, AUC, and F1 score\n",
    "  accuracy = accuracy_score(ytst, y_pred)\n",
    "\n",
    "  auc = roc_auc_score(ytst, y_prob)\n",
    "\n",
    "  f1 = f1_score(ytst, y_pred, average='weighted')\n",
    "\n",
    "  return f1, auc, accuracy"
   ]
  },
  {
   "cell_type": "code",
   "execution_count": 124,
   "metadata": {
    "executionInfo": {
     "elapsed": 31,
     "status": "ok",
     "timestamp": 1677340054835,
     "user": {
      "displayName": "saurav Roy",
      "userId": "11382058629229026496"
     },
     "user_tz": -360
    },
    "id": "5ajX7ORjN8tn"
   },
   "outputs": [],
   "source": [
    "def outpt(dframe):\n",
    "  label = dframe['Class']\n",
    "  dframe = dframe.drop(columns=['Class'])\n",
    "  A = dframe.to_numpy()\n",
    "  xtrain,xtest,ytrain,ytest = train_test_split(A,label, test_size=0.2, random_state=42)\n",
    "  #print(xtrain)\n",
    "  print(\"dataset\\n f1, auc, Accuracy:\")\n",
    "  print(\"decision tree: \",dt(xtrain,ytrain,xtest,ytest))\n",
    "  print(\"Random Forest: \",Rndm(xtrain,ytrain,xtest,ytest))\n",
    "  print(\"SVM: \",SVMs(xtrain,ytrain,xtest,ytest))"
   ]
  },
  {
   "cell_type": "markdown",
   "metadata": {
    "id": "1zMM0z7vR-2z"
   },
   "source": [
    "#Datasets"
   ]
  },
  {
   "cell_type": "code",
   "execution_count": 125,
   "metadata": {
    "colab": {
     "base_uri": "https://localhost:8080/",
     "height": 206
    },
    "executionInfo": {
     "elapsed": 31,
     "status": "ok",
     "timestamp": 1677340054837,
     "user": {
      "displayName": "saurav Roy",
      "userId": "11382058629229026496"
     },
     "user_tz": -360
    },
    "id": "rCbmg56i8_gn",
    "outputId": "3a712639-724b-4b01-a007-766f99dc618d"
   },
   "outputs": [
    {
     "data": {
      "text/html": [
       "<div>\n",
       "<style scoped>\n",
       "    .dataframe tbody tr th:only-of-type {\n",
       "        vertical-align: middle;\n",
       "    }\n",
       "\n",
       "    .dataframe tbody tr th {\n",
       "        vertical-align: top;\n",
       "    }\n",
       "\n",
       "    .dataframe thead th {\n",
       "        text-align: right;\n",
       "    }\n",
       "</style>\n",
       "<table border=\"1\" class=\"dataframe\">\n",
       "  <thead>\n",
       "    <tr style=\"text-align: right;\">\n",
       "      <th></th>\n",
       "      <th>0</th>\n",
       "      <th>1</th>\n",
       "      <th>2</th>\n",
       "      <th>3</th>\n",
       "      <th>4</th>\n",
       "      <th>5</th>\n",
       "      <th>6</th>\n",
       "      <th>7</th>\n",
       "      <th>8</th>\n",
       "      <th>9</th>\n",
       "      <th>...</th>\n",
       "      <th>35</th>\n",
       "      <th>36</th>\n",
       "      <th>37</th>\n",
       "      <th>38</th>\n",
       "      <th>39</th>\n",
       "      <th>40</th>\n",
       "      <th>41</th>\n",
       "      <th>42</th>\n",
       "      <th>43</th>\n",
       "      <th>Class</th>\n",
       "    </tr>\n",
       "  </thead>\n",
       "  <tbody>\n",
       "    <tr>\n",
       "      <th>0</th>\n",
       "      <td>0.632537</td>\n",
       "      <td>-0.786376</td>\n",
       "      <td>-0.599870</td>\n",
       "      <td>0.562552</td>\n",
       "      <td>-0.693192</td>\n",
       "      <td>-0.813674</td>\n",
       "      <td>0.698383</td>\n",
       "      <td>-0.721876</td>\n",
       "      <td>-0.652929</td>\n",
       "      <td>0.820042</td>\n",
       "      <td>...</td>\n",
       "      <td>-0.822511</td>\n",
       "      <td>0.879811</td>\n",
       "      <td>-0.875553</td>\n",
       "      <td>-0.879135</td>\n",
       "      <td>0.938593</td>\n",
       "      <td>-0.886199</td>\n",
       "      <td>-0.964090</td>\n",
       "      <td>-0.906756</td>\n",
       "      <td>-0.902056</td>\n",
       "      <td>1</td>\n",
       "    </tr>\n",
       "    <tr>\n",
       "      <th>1</th>\n",
       "      <td>0.694980</td>\n",
       "      <td>-0.800310</td>\n",
       "      <td>-0.728771</td>\n",
       "      <td>0.615857</td>\n",
       "      <td>-0.692090</td>\n",
       "      <td>-0.755877</td>\n",
       "      <td>0.778120</td>\n",
       "      <td>-0.830530</td>\n",
       "      <td>-0.786236</td>\n",
       "      <td>0.830900</td>\n",
       "      <td>...</td>\n",
       "      <td>-0.723412</td>\n",
       "      <td>0.827559</td>\n",
       "      <td>-0.842098</td>\n",
       "      <td>-0.869547</td>\n",
       "      <td>0.740659</td>\n",
       "      <td>-0.723995</td>\n",
       "      <td>-0.903083</td>\n",
       "      <td>-0.714048</td>\n",
       "      <td>-0.738968</td>\n",
       "      <td>1</td>\n",
       "    </tr>\n",
       "    <tr>\n",
       "      <th>2</th>\n",
       "      <td>0.671639</td>\n",
       "      <td>-0.908816</td>\n",
       "      <td>-0.859759</td>\n",
       "      <td>0.885041</td>\n",
       "      <td>-0.807151</td>\n",
       "      <td>-0.753177</td>\n",
       "      <td>0.832523</td>\n",
       "      <td>-0.877594</td>\n",
       "      <td>-0.893724</td>\n",
       "      <td>0.853289</td>\n",
       "      <td>...</td>\n",
       "      <td>-0.780419</td>\n",
       "      <td>0.650814</td>\n",
       "      <td>-0.800488</td>\n",
       "      <td>-0.800255</td>\n",
       "      <td>0.692935</td>\n",
       "      <td>-0.694289</td>\n",
       "      <td>-0.810541</td>\n",
       "      <td>-0.655754</td>\n",
       "      <td>-0.707486</td>\n",
       "      <td>1</td>\n",
       "    </tr>\n",
       "    <tr>\n",
       "      <th>3</th>\n",
       "      <td>0.700713</td>\n",
       "      <td>-0.661512</td>\n",
       "      <td>-0.736442</td>\n",
       "      <td>0.652252</td>\n",
       "      <td>-0.758866</td>\n",
       "      <td>-0.623014</td>\n",
       "      <td>0.872691</td>\n",
       "      <td>-0.859081</td>\n",
       "      <td>-0.849553</td>\n",
       "      <td>0.716208</td>\n",
       "      <td>...</td>\n",
       "      <td>-0.601427</td>\n",
       "      <td>0.774250</td>\n",
       "      <td>-0.897652</td>\n",
       "      <td>-0.826817</td>\n",
       "      <td>0.801067</td>\n",
       "      <td>-0.801200</td>\n",
       "      <td>-0.934155</td>\n",
       "      <td>-0.775811</td>\n",
       "      <td>-0.816717</td>\n",
       "      <td>1</td>\n",
       "    </tr>\n",
       "    <tr>\n",
       "      <th>4</th>\n",
       "      <td>0.515052</td>\n",
       "      <td>-0.587260</td>\n",
       "      <td>-0.637868</td>\n",
       "      <td>0.708080</td>\n",
       "      <td>-0.713825</td>\n",
       "      <td>-0.501179</td>\n",
       "      <td>0.788574</td>\n",
       "      <td>-0.789388</td>\n",
       "      <td>-0.791431</td>\n",
       "      <td>0.607914</td>\n",
       "      <td>...</td>\n",
       "      <td>-0.531388</td>\n",
       "      <td>0.603370</td>\n",
       "      <td>-0.891999</td>\n",
       "      <td>-0.719067</td>\n",
       "      <td>0.766941</td>\n",
       "      <td>-0.722592</td>\n",
       "      <td>-0.896176</td>\n",
       "      <td>-0.666301</td>\n",
       "      <td>-0.736167</td>\n",
       "      <td>1</td>\n",
       "    </tr>\n",
       "  </tbody>\n",
       "</table>\n",
       "<p>5 rows × 45 columns</p>\n",
       "</div>"
      ],
      "text/plain": [
       "          0         1         2         3         4         5         6  \\\n",
       "0  0.632537 -0.786376 -0.599870  0.562552 -0.693192 -0.813674  0.698383   \n",
       "1  0.694980 -0.800310 -0.728771  0.615857 -0.692090 -0.755877  0.778120   \n",
       "2  0.671639 -0.908816 -0.859759  0.885041 -0.807151 -0.753177  0.832523   \n",
       "3  0.700713 -0.661512 -0.736442  0.652252 -0.758866 -0.623014  0.872691   \n",
       "4  0.515052 -0.587260 -0.637868  0.708080 -0.713825 -0.501179  0.788574   \n",
       "\n",
       "          7         8         9  ...        35        36        37        38  \\\n",
       "0 -0.721876 -0.652929  0.820042  ... -0.822511  0.879811 -0.875553 -0.879135   \n",
       "1 -0.830530 -0.786236  0.830900  ... -0.723412  0.827559 -0.842098 -0.869547   \n",
       "2 -0.877594 -0.893724  0.853289  ... -0.780419  0.650814 -0.800488 -0.800255   \n",
       "3 -0.859081 -0.849553  0.716208  ... -0.601427  0.774250 -0.897652 -0.826817   \n",
       "4 -0.789388 -0.791431  0.607914  ... -0.531388  0.603370 -0.891999 -0.719067   \n",
       "\n",
       "         39        40        41        42        43  Class  \n",
       "0  0.938593 -0.886199 -0.964090 -0.906756 -0.902056      1  \n",
       "1  0.740659 -0.723995 -0.903083 -0.714048 -0.738968      1  \n",
       "2  0.692935 -0.694289 -0.810541 -0.655754 -0.707486      1  \n",
       "3  0.801067 -0.801200 -0.934155 -0.775811 -0.816717      1  \n",
       "4  0.766941 -0.722592 -0.896176 -0.666301 -0.736167      1  \n",
       "\n",
       "[5 rows x 45 columns]"
      ]
     },
     "execution_count": 125,
     "metadata": {},
     "output_type": "execute_result"
    }
   ],
   "source": [
    "#df = pd.read_csv('data.csv')\n",
    "#df = pd.read_csv('4. for_clasification.csv')\n",
    "df = pd.read_csv('5. SVD+3dRT.csv')\n",
    "#df = pd.read_csv('6. WOE+IV+3dshare.csv')\n",
    "#df = pd.read_csv('6. SVD+WOE+IV+3dshare.csv')\n",
    "#df = pd.read_csv('newData.csv')\n",
    "df.head()"
   ]
  },
  {
   "cell_type": "code",
   "execution_count": 126,
   "metadata": {
    "colab": {
     "base_uri": "https://localhost:8080/"
    },
    "executionInfo": {
     "elapsed": 69834,
     "status": "ok",
     "timestamp": 1677340124644,
     "user": {
      "displayName": "saurav Roy",
      "userId": "11382058629229026496"
     },
     "user_tz": -360
    },
    "id": "x4bSeqnyR8jV",
    "outputId": "47ccc7fc-7882-4979-86ed-aa7dd1836507"
   },
   "outputs": [
    {
     "name": "stdout",
     "output_type": "stream",
     "text": [
      "dataset\n",
      " f1, auc, Accuracy:\n",
      "decision tree:  (0.8444444444444444, 0.5318181818181817, 0.7407407407407407)\n",
      "Random Forest:  (0.9010989010989012, 0.7738636363636364, 0.8333333333333334)\n",
      "SVM:  (0.7316704459561602, 0.7795454545454545, 0.8148148148148148)\n"
     ]
    }
   ],
   "source": [
    "outpt(df)"
   ]
  }
 ],
 "metadata": {
  "colab": {
   "authorship_tag": "ABX9TyP3n8M+Pq0P5z89RgI3MCzj",
   "provenance": []
  },
  "kernelspec": {
   "display_name": "Python 3 (ipykernel)",
   "language": "python",
   "name": "python3"
  },
  "language_info": {
   "codemirror_mode": {
    "name": "ipython",
    "version": 3
   },
   "file_extension": ".py",
   "mimetype": "text/x-python",
   "name": "python",
   "nbconvert_exporter": "python",
   "pygments_lexer": "ipython3",
   "version": "3.10.12"
  },
  "vscode": {
   "interpreter": {
    "hash": "093b139589c52eea2f67ab026d77915a640d738e197d37b11b9be9738c028ef7"
   }
  }
 },
 "nbformat": 4,
 "nbformat_minor": 1
}
