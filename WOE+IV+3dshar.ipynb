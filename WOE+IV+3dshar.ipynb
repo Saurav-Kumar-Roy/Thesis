{
 "cells": [
  {
   "cell_type": "code",
   "execution_count": 1,
   "metadata": {
    "executionInfo": {
     "elapsed": 27,
     "status": "ok",
     "timestamp": 1677313821874,
     "user": {
      "displayName": "saurav Roy",
      "userId": "11382058629229026496"
     },
     "user_tz": -360
    },
    "id": "Sd4xmBlt7poA"
   },
   "outputs": [],
   "source": [
    "import numpy as np\n",
    "import math\n",
    "import pandas as pd\n",
    "from sklearn.preprocessing import MinMaxScaler"
   ]
  },
  {
   "cell_type": "markdown",
   "metadata": {
    "id": "gZZutQJX81Vw"
   },
   "source": [
    "#WOE+IV"
   ]
  },
  {
   "cell_type": "code",
   "execution_count": 2,
   "metadata": {
    "executionInfo": {
     "elapsed": 23,
     "status": "ok",
     "timestamp": 1677313821875,
     "user": {
      "displayName": "saurav Roy",
      "userId": "11382058629229026496"
     },
     "user_tz": -360
    },
    "id": "bkQ6ZnLhArCV"
   },
   "outputs": [],
   "source": [
    "def WOE_IV(lst, cls, toOcur)->list:\n",
    "  #print(lst)\n",
    "  #print(cls)\n",
    "  total = len(lst)\n",
    "  occuranceTotal = 0 \n",
    "  counts = {}\n",
    "  occurances = {}\n",
    "  woe = {}\n",
    "  iv = {}\n",
    "  minValue = round(min(lst))\n",
    "  maxValue = round(max(lst))\n",
    "  dif = maxValue - minValue\n",
    "\n",
    "  if dif>=100:\n",
    "    noofBins =2\n",
    "    if dif<500: noofBins=5\n",
    "    else: noofBins=10 \n",
    "    limits = dif//noofBins\n",
    "    ranges = []\n",
    "    for i in range(minValue+limits,maxValue,limits):\n",
    "      ranges.append(i)\n",
    "      counts.update({i:0.0})\n",
    "      occurances.update({i:0.0})\n",
    "      woe.update({i:0.0})\n",
    "      iv.update({i:0.0})\n",
    "    ranges.append(maxValue)\n",
    "    counts.update({maxValue:0.0})\n",
    "    occurances.update({maxValue:0.0})\n",
    "    woe.update({maxValue:0.0})\n",
    "    iv.update({maxValue:0.0})\n",
    "    #print(ranges)\n",
    "\n",
    "  else:\n",
    "    ranges = list(set(lst))\n",
    "    for i in ranges:\n",
    "      counts.update({i:0.0})\n",
    "      occurances.update({i:0.0})\n",
    "      woe.update({i:0.0})\n",
    "      iv.update({i:0.0})\n",
    "\n",
    "  for element, c in zip(lst,cls):\n",
    "    for rng in ranges:\n",
    "      if element<=rng:\n",
    "        counts[rng]+=1\n",
    "        if c==toOcur:\n",
    "          occurances[rng]+=1\n",
    "          occuranceTotal+=1\n",
    "        break    \n",
    "    \n",
    "  nonOccuranceTotal = total - occuranceTotal + .001\n",
    "  for i in ranges:\n",
    "    nonOccurance = counts[i]-occurances[i] + .0001\n",
    "    pOfOccur = occurances[i]*100/occuranceTotal\n",
    "\n",
    "    pOfNonOccur = nonOccurance*100/nonOccuranceTotal\n",
    "      #print(pOfOccur, pOfNonOccur)\n",
    "\n",
    "    if pOfOccur == 0:\n",
    "      woe[i]=0\n",
    "    else:\n",
    "      woe[i]= math.log(pOfOccur/pOfNonOccur)\n",
    "\n",
    "    iv[i]= (pOfOccur-pOfNonOccur)*woe[i]/100\n",
    "\n",
    "  for i in range(total):\n",
    "    for rng in ranges:\n",
    "      if lst[i]<=rng:\n",
    "        lst[i]=iv[rng]\n",
    "        break\n",
    "  return lst"
   ]
  },
  {
   "cell_type": "markdown",
   "metadata": {
    "id": "0T1yLgGL86Be"
   },
   "source": [
    "#3D share"
   ]
  },
  {
   "cell_type": "code",
   "execution_count": 3,
   "metadata": {
    "executionInfo": {
     "elapsed": 22,
     "status": "ok",
     "timestamp": 1677313821875,
     "user": {
      "displayName": "saurav Roy",
      "userId": "11382058629229026496"
     },
     "user_tz": -360
    },
    "id": "cbQsOBpc7Gug"
   },
   "outputs": [],
   "source": [
    "sa=.2\n",
    "sb=.33\n",
    "sc=.4\n",
    "\n",
    "sxy = np.array(\n",
    "    [[1.0,sa,0,0],\n",
    "    [sb,sa*sb+1,0,0],\n",
    "    [sc,sa*sc+1,1,0],      \n",
    "    [0,0,0,1]]\n",
    ")\n",
    "\n",
    "syz = np.array(\n",
    "    [[1.0,sa,sa+sa*sb,0],\n",
    "    [0,1,sb,0],\n",
    "    [0,sc,sa*sc+1,0],      \n",
    "    [0,0,0,1]]\n",
    ") \n",
    "\n",
    "szx = np.array(\n",
    "    [[1+sa*sc,0,sa,0.0],\n",
    "    [sb+sb*sc,1,sb,0],\n",
    "    [sc,0,1,0],\n",
    "    [0,0,0,1]]\n",
    ")\n"
   ]
  },
  {
   "cell_type": "code",
   "execution_count": 4,
   "metadata": {
    "executionInfo": {
     "elapsed": 22,
     "status": "ok",
     "timestamp": 1677313821876,
     "user": {
      "displayName": "saurav Roy",
      "userId": "11382058629229026496"
     },
     "user_tz": -360
    },
    "id": "9iiLx2f55Oq_"
   },
   "outputs": [],
   "source": [
    "def sharing(trip):\n",
    "  #print(trip)\n",
    "  tp_arr = trip.transpose()\n",
    "  #print(tp_arr)\n",
    "  one = np.ones(tp_arr[0].shape)\n",
    "  #print(one)\n",
    "  tp_arr = np.concatenate((tp_arr,[one]))\n",
    "  #print(tp_arr)\n",
    "\n",
    "  a = np.array(np.matrix(sxy)*np.matrix(tp_arr))\n",
    "  a = np.array(np.matrix(syz)*np.matrix(a))\n",
    "  a = np.array(np.matrix(szx)*np.matrix(a))\n",
    "  \n",
    "  #print(a)\n",
    "\n",
    "  arr = np.array([a[0],a[1],a[2]])\n",
    "  tp_arr = arr.transpose()\n",
    "  #print(tp_arr)\n",
    "\n",
    "  return tp_arr\n"
   ]
  },
  {
   "cell_type": "code",
   "execution_count": 5,
   "metadata": {
    "executionInfo": {
     "elapsed": 22,
     "status": "ok",
     "timestamp": 1677313821876,
     "user": {
      "displayName": "saurav Roy",
      "userId": "11382058629229026496"
     },
     "user_tz": -360
    },
    "id": "Yl6np8Wtazz0"
   },
   "outputs": [],
   "source": [
    "def _3DShar(data):\n",
    "  size = data.shape[1]\n",
    "  reminder = size%3\n",
    "  #print(size,reminder)\n",
    "\n",
    "  #first triplate\n",
    "  triplate = data[:,:3]\n",
    "  #print(triplate)\n",
    "  merged_array = np.array(sharing(triplate))\n",
    "  for i in range(3,size-reminder,3):\n",
    "    triplate = data[:,i:3+i]\n",
    "    Rotated = np.array(sharing(triplate))\n",
    "    # Merge the arrays along the columns\n",
    "    merged_array = np.concatenate((merged_array, Rotated), axis=1)\n",
    "\n",
    "  #Rotate if any colums are left\n",
    "  if reminder!=0:\n",
    "    triplate = data[:,-3:]\n",
    "    Rotated = np.array(sharing(triplate))\n",
    "    merged_array = np.concatenate((merged_array, Rotated[:,-1*(reminder):]), axis=1)\n",
    "    #print(merged_array.shape)\n",
    "  return merged_array"
   ]
  },
  {
   "cell_type": "markdown",
   "metadata": {
    "id": "2lb_wFvv8_uG"
   },
   "source": [
    "#Datasets"
   ]
  },
  {
   "cell_type": "code",
   "execution_count": 6,
   "metadata": {
    "executionInfo": {
     "elapsed": 22,
     "status": "ok",
     "timestamp": 1677313821877,
     "user": {
      "displayName": "saurav Roy",
      "userId": "11382058629229026496"
     },
     "user_tz": -360
    },
    "id": "rCbmg56i8_gn"
   },
   "outputs": [],
   "source": [
    "df = pd.read_csv('data.csv')"
   ]
  },
  {
   "cell_type": "markdown",
   "metadata": {
    "id": "pS06JTI2sHmK"
   },
   "source": [
    "#change the colum with comannds.txt"
   ]
  },
  {
   "cell_type": "code",
   "execution_count": 7,
   "metadata": {
    "executionInfo": {
     "elapsed": 22,
     "status": "ok",
     "timestamp": 1677313821877,
     "user": {
      "displayName": "saurav Roy",
      "userId": "11382058629229026496"
     },
     "user_tz": -360
    },
    "id": "XmmyZbz_LDzy"
   },
   "outputs": [],
   "source": [
    "#Nan_Removed csv file dependent\n",
    "clas = df['Class']\n",
    "df = df.drop(columns=['Class'])\n",
    "numeric = [True,True,True,True,True,True,True,True,True,True,True,True,True,True,True,True,True,True,True,True,True,True,True,True,True,True,True,True,True,True]\n",
    "bins = [10,10,10,10,10,10,10,10,10,10,10,10,10,10,10,10,10,10,10,10,10,10,10,10,10,10,10,10,10,10]"
   ]
  },
  {
   "cell_type": "code",
   "execution_count": 8,
   "metadata": {
    "colab": {
     "base_uri": "https://localhost:8080/"
    },
    "executionInfo": {
     "elapsed": 22,
     "status": "ok",
     "timestamp": 1677313821878,
     "user": {
      "displayName": "saurav Roy",
      "userId": "11382058629229026496"
     },
     "user_tz": -360
    },
    "id": "KMQfGRnAB0YX",
    "outputId": "ea93f62d-b183-41b6-f3f9-25114c23c582"
   },
   "outputs": [
    {
     "name": "stdout",
     "output_type": "stream",
     "text": [
      "Unnamed: 1\n",
      "Unnamed: 2\n",
      "Unnamed: 3\n",
      "Unnamed: 4\n",
      "Unnamed: 5\n",
      "Unnamed: 6\n",
      "Unnamed: 7\n",
      "Unnamed: 8\n",
      "Unnamed: 9\n",
      "Unnamed: 10\n",
      "Unnamed: 11\n",
      "Unnamed: 12\n",
      "Unnamed: 13\n",
      "Unnamed: 14\n",
      "Unnamed: 15\n",
      "Unnamed: 16\n",
      "Unnamed: 17\n",
      "Unnamed: 18\n",
      "Unnamed: 19\n",
      "Unnamed: 20\n",
      "Unnamed: 21\n",
      "Unnamed: 22\n",
      "Unnamed: 23\n",
      "Unnamed: 24\n",
      "Unnamed: 25\n",
      "Unnamed: 26\n",
      "Unnamed: 27\n",
      "Unnamed: 28\n",
      "Unnamed: 29\n",
      "Unnamed: 30\n",
      "Unnamed: 31\n",
      "Unnamed: 32\n",
      "Unnamed: 33\n",
      "Unnamed: 34\n",
      "Unnamed: 35\n",
      "Unnamed: 36\n",
      "Unnamed: 37\n",
      "Unnamed: 38\n",
      "Unnamed: 39\n",
      "Unnamed: 40\n",
      "Unnamed: 41\n",
      "Unnamed: 42\n",
      "Unnamed: 43\n",
      "Unnamed: 44\n"
     ]
    }
   ],
   "source": [
    "for i in df:\n",
    "  print(i)\n",
    "  woe_iv = WOE_IV(list(df[i]),clas,1)\n",
    "  df[i]=woe_iv\n"
   ]
  },
  {
   "cell_type": "code",
   "execution_count": 9,
   "metadata": {
    "executionInfo": {
     "elapsed": 18,
     "status": "ok",
     "timestamp": 1677313821878,
     "user": {
      "displayName": "saurav Roy",
      "userId": "11382058629229026496"
     },
     "user_tz": -360
    },
    "id": "G6pjzlBi77sW"
   },
   "outputs": [],
   "source": [
    "scaler = MinMaxScaler(feature_range=(0, 1))\n",
    "df_normalized = pd.DataFrame(scaler.fit_transform(df), columns=df.columns)"
   ]
  },
  {
   "cell_type": "code",
   "execution_count": 10,
   "metadata": {
    "colab": {
     "base_uri": "https://localhost:8080/"
    },
    "executionInfo": {
     "elapsed": 19,
     "status": "ok",
     "timestamp": 1677313821879,
     "user": {
      "displayName": "saurav Roy",
      "userId": "11382058629229026496"
     },
     "user_tz": -360
    },
    "id": "3jQ3YSc_-bES",
    "outputId": "9d36490b-9bd8-45ec-e732-3170739bebc9"
   },
   "outputs": [
    {
     "name": "stdout",
     "output_type": "stream",
     "text": [
      "(267, 44)\n"
     ]
    }
   ],
   "source": [
    "A = df_normalized.to_numpy()\n",
    "#print(A)\n",
    "final_dataset = _3DShar(A)\n",
    "print(final_dataset.shape)\n",
    "df = pd.DataFrame(final_dataset)\n",
    "df['Class'] = np.array(list(clas))\n",
    "df.to_csv(\"6. WOE+IV+3dshare.csv\",index=False)\n",
    "#print(final_dataset)"
   ]
  }
 ],
 "metadata": {
  "colab": {
   "authorship_tag": "ABX9TyPiTGl6WFukeY2dFiH6j2NA",
   "provenance": []
  },
  "kernelspec": {
   "display_name": "Python 3 (ipykernel)",
   "language": "python",
   "name": "python3"
  },
  "language_info": {
   "codemirror_mode": {
    "name": "ipython",
    "version": 3
   },
   "file_extension": ".py",
   "mimetype": "text/x-python",
   "name": "python",
   "nbconvert_exporter": "python",
   "pygments_lexer": "ipython3",
   "version": "3.10.6"
  }
 },
 "nbformat": 4,
 "nbformat_minor": 1
}
