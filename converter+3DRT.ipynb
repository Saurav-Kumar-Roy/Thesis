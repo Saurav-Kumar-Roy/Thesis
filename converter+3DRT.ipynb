{
 "cells": [
  {
   "cell_type": "code",
   "execution_count": 1,
   "metadata": {},
   "outputs": [],
   "source": [
    "import pandas as pd\n",
    "import numpy as np\n",
    "import math\n",
    "import random"
   ]
  },
  {
   "cell_type": "code",
   "execution_count": 2,
   "metadata": {},
   "outputs": [],
   "source": [
    "# (2*(x-3)**2 + 4)\n",
    "# (cos(2*x))\n",
    "\n",
    "\n",
    "def f(x):\n",
    "    return f\"{(3*x + 4):.2f}\"\n",
    "\n",
    "def fdash(x):\n",
    "    return 4*(x-3)"
   ]
  },
  {
   "cell_type": "code",
   "execution_count": 3,
   "metadata": {},
   "outputs": [],
   "source": [
    "def convert(arr):\n",
    "    arr = arr.T\n",
    "    for j in range(len(arr)):\n",
    "        x = arr[j]\n",
    "        temp = []\n",
    "        for i in x:\n",
    "            temp.append(fdash(i))\n",
    "        xdash = np.array(temp)\n",
    "        temp = []\n",
    "        for i in xdash:\n",
    "            temp.append(f(i))\n",
    "        arr[j] = np.array(temp)\n",
    "    print(arr)\n",
    "    arr = arr.T\n",
    "    return arr\n"
   ]
  },
  {
   "cell_type": "code",
   "execution_count": 4,
   "metadata": {},
   "outputs": [],
   "source": [
    "def rotationMatrix(axis,deg):\n",
    "  thta = math.radians(deg)\n",
    "  c, s = np.cos(thta), np.sin(thta)\n",
    "  Rx = np.array([[1,0,0],[0,c,s],[0,-s,c]])\n",
    "  Ry = np.array([[c,0,-s],[0,1,0],[s,0,c]])\n",
    "  Rz = np.array([[c,-s,0],[s,c,0],[0,0,1]])\n",
    "  RxRy = np.matrix(Rx)*np.matrix(Ry)\n",
    "  RyRz = np.matrix(Ry)*np.matrix(Rz)\n",
    "  RxRz = np.matrix(Rx)*np.matrix(Rz)\n",
    "  if axis==\"xy\":\n",
    "    R = RxRy\n",
    "  elif axis==\"yz\":\n",
    "    R = RyRz\n",
    "  elif axis==\"xz\":\n",
    "    R = RxRz\n",
    "  return R  "
   ]
  },
  {
   "cell_type": "code",
   "execution_count": 5,
   "metadata": {},
   "outputs": [],
   "source": [
    "def rotate(data,R):\n",
    "  size = data.shape[1]\n",
    "  reminder = size%3\n",
    "  #print(size,reminder)\n",
    "\n",
    "  #first triplate\n",
    "  triplate = data[:,:3]\n",
    "  merged_array = np.array(np.matrix(triplate)*np.matrix(R))\n",
    "  for i in range(3,size-reminder,3):\n",
    "    triplate = data[:,i:3+i]\n",
    "    Rotated = np.array(np.matrix(triplate)*np.matrix(R))\n",
    "    # Merge the arrays along the columns\n",
    "    merged_array = np.concatenate((merged_array, Rotated), axis=1)\n",
    "\n",
    "  #Rotate if any colums are left\n",
    "  if reminder!=0:\n",
    "    triplate = data[:,-3:]\n",
    "    Rotated = np.array(np.matrix(triplate)*np.matrix(R))\n",
    "    merged_array = np.concatenate((merged_array, Rotated[:,-1*(reminder):]), axis=1)\n",
    "    #print(merged_array.shape)\n",
    "  return merged_array"
   ]
  },
  {
   "cell_type": "code",
   "execution_count": 6,
   "metadata": {},
   "outputs": [],
   "source": [
    "def _3drotation(D,S):\n",
    "  n = D.shape[1]\n",
    "  numOfTriplates = n//3\n",
    "  triplatesList = []\n",
    "  for i in range(0,numOfTriplates,3):\n",
    "    triplatesList.append(D[:,i:i+3])\n",
    "  triplatesList.append(D[:,-3:])\n",
    "  triplates = np.array(triplatesList)\n",
    "  Veq=0\n",
    "  for q in [\"xy\", \"yz\", \"xz\"]:\n",
    "    thetaq = [_ for _ in range(361)]\n",
    "    thetatemp = thetaq\n",
    "    for theta in thetaq:\n",
    "      Rq = rotationMatrix(q,theta)\n",
    "      i=0\n",
    "      for triplate in triplates:\n",
    "        dq = np.array(np.matrix(triplate)*np.matrix(Rq))\n",
    "        v1 = (np.var(triplate[:,0]-dq[:,0]))\n",
    "        v2 = (np.var(triplate[:,1]-dq[:,1]))\n",
    "        v3 = (np.var(triplate[:,2]-dq[:,2]))\n",
    "        if v1<S[i][0] or v2<S[i][1] or v3<S[i][2]:\n",
    "          if theta in thetatemp:\n",
    "            thetatemp.remove(theta)\n",
    "        i+=1\n",
    "    alpha = random.choice(thetatemp)\n",
    "    Deq=rotate(D,rotationMatrix(q,alpha))\n",
    "    V = np.var(Deq)\n",
    "    #rint(f\"Variance of {q} axis is {V} \" )\n",
    "    if Veq<V:\n",
    "      Veq = V\n",
    "      Ddash = Deq\n",
    "  return Ddash"
   ]
  },
  {
   "cell_type": "code",
   "execution_count": 7,
   "metadata": {},
   "outputs": [
    {
     "name": "stdout",
     "output_type": "stream",
     "text": [
      "(267, 44)\n",
      "[[772. 868. 964. ... 772. 784. 760.]\n",
      " [784. 856. 736. ... 736. 748. 616.]\n",
      " [844. 820. 760. ... 844. 832. 796.]\n",
      " ...\n",
      " [856. 664. 736. ... 928. 640. 784.]\n",
      " [676. 652. 484. ... 772. 664. 676.]\n",
      " [784. 592. 472. ... 784. 496. 676.]]\n",
      "(267, 44)\n"
     ]
    }
   ],
   "source": [
    "df = pd.read_csv('data.csv')\n",
    "df.head()\n",
    "label = df['Class']\n",
    "df = df.drop(columns=['Class'])\n",
    "A = df.to_numpy()\n",
    "print(A.shape)\n",
    "S = [[1,1,1],[.5,.5,.5],[.5,.5,.5],[.4,.4,.4],[.4,.4,.4],[1,1,1],[.5,.5,.5],[.5,.5,.5],[.4,.4,.4],[.4,.4,.4],[1,1,1],[.5,.5,.5],[.5,.5,.5],[.4,.4,.4],[.4,.4,.4],[1,1,1],[.5,.5,.5],[.5,.5,.5],[.4,.4,.4]]\n",
    "newArr = _3drotation(convert(A.copy()),S)\n",
    "print(newArr.shape)\n",
    "\n",
    "df = pd.DataFrame(newArr)\n",
    "df['Class'] = np.array(list(label))\n",
    "df.to_csv(\"newData.csv\",index=False)"
   ]
  }
 ],
 "metadata": {
  "kernelspec": {
   "display_name": "Python 3",
   "language": "python",
   "name": "python3"
  },
  "language_info": {
   "codemirror_mode": {
    "name": "ipython",
    "version": 3
   },
   "file_extension": ".py",
   "mimetype": "text/x-python",
   "name": "python",
   "nbconvert_exporter": "python",
   "pygments_lexer": "ipython3",
   "version": "3.10.12"
  },
  "orig_nbformat": 4
 },
 "nbformat": 4,
 "nbformat_minor": 2
}
